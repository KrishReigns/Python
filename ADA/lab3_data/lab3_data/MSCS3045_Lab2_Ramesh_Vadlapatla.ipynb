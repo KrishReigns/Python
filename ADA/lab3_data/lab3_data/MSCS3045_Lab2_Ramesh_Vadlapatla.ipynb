{
  "nbformat": 4,
  "nbformat_minor": 0,
  "metadata": {
    "colab": {
      "provenance": [],
      "collapsed_sections": []
    },
    "kernelspec": {
      "name": "python3",
      "display_name": "Python 3"
    },
    "language_info": {
      "name": "python"
    }
  },
  "cells": [
    {
      "cell_type": "code",
      "execution_count": 4,
      "metadata": {
        "id": "SLY9dIFssG5g"
      },
      "outputs": [],
      "source": [
        "\n",
        "import numpy as np\n",
        "import pandas as pd\n",
        "import matplotlib.pyplot as plt"
      ]
    },
    {
      "cell_type": "code",
      "source": [
        "df = pd.read_csv(\"/content/N_seaice_extent_daily_v3.0.csv\")"
      ],
      "metadata": {
        "id": "dLWO0B6cgAlY"
      },
      "execution_count": 5,
      "outputs": []
    },
    {
      "cell_type": "code",
      "source": [
        "\n",
        "df.drop(index=df.index[0], \n",
        "        axis=0, \n",
        "        inplace=True)\n"
      ],
      "metadata": {
        "id": "ZKF8F3B7gFPD"
      },
      "execution_count": 6,
      "outputs": []
    },
    {
      "cell_type": "code",
      "source": [
        "df.info()"
      ],
      "metadata": {
        "id": "2kwY2po2gHnx"
      },
      "execution_count": null,
      "outputs": []
    },
    {
      "cell_type": "code",
      "source": [
        "\n",
        "df.head()"
      ],
      "metadata": {
        "id": "vEprSAoQgKRB"
      },
      "execution_count": null,
      "outputs": []
    },
    {
      "cell_type": "code",
      "source": [
        "df.tail()"
      ],
      "metadata": {
        "id": "6aUrz5QKgMQc"
      },
      "execution_count": null,
      "outputs": []
    },
    {
      "cell_type": "code",
      "source": [
        "df.dtypes"
      ],
      "metadata": {
        "id": "eaabLdkQgOwo"
      },
      "execution_count": null,
      "outputs": []
    },
    {
      "cell_type": "code",
      "source": [
        "df.Year.unique()"
      ],
      "metadata": {
        "id": "5r2NcT3RgRG-"
      },
      "execution_count": null,
      "outputs": []
    },
    {
      "cell_type": "code",
      "source": [
        "df.columns = df.columns.str.replace(' ', '')"
      ],
      "metadata": {
        "id": "xPj_ghnAgTZM"
      },
      "execution_count": 12,
      "outputs": []
    },
    {
      "cell_type": "code",
      "source": [
        "df.drop(df.columns[[4, 5]], axis=1, inplace=True)\n",
        "df"
      ],
      "metadata": {
        "id": "nqQzY12EgWtb"
      },
      "execution_count": null,
      "outputs": []
    },
    {
      "cell_type": "code",
      "source": [
        "df_2021 = df[(df['Year']=='2021') & (df['Month'].astype(str).astype(int)==9)]\n",
        "df_2021"
      ],
      "metadata": {
        "id": "thJpm6vcgZdY"
      },
      "execution_count": null,
      "outputs": []
    },
    {
      "cell_type": "code",
      "source": [
        "plt.bar(df_2021['Extent'], height=5)"
      ],
      "metadata": {
        "id": "QDGMpYQ8gaWU"
      },
      "execution_count": null,
      "outputs": []
    },
    {
      "cell_type": "code",
      "source": [
        "df_2021.dtypes"
      ],
      "metadata": {
        "id": "1iq_zfhDgckT"
      },
      "execution_count": null,
      "outputs": []
    },
    {
      "cell_type": "code",
      "source": [
        "new_df =pd.DataFrame(df_2021['Extent'].astype(str).astype(float),df_2021['Month'].astype(str).astype(int))"
      ],
      "metadata": {
        "id": "LlFmWRMsgexb"
      },
      "execution_count": 17,
      "outputs": []
    },
    {
      "cell_type": "code",
      "source": [
        "new_df\n"
      ],
      "metadata": {
        "id": "AlmIkSfeghUo"
      },
      "execution_count": null,
      "outputs": []
    },
    {
      "cell_type": "code",
      "source": [
        "df_2022 = pd.DataFrame([df['Month']==9],[df['Extent']])"
      ],
      "metadata": {
        "id": "x9p6adWHgjs5"
      },
      "execution_count": 19,
      "outputs": []
    },
    {
      "cell_type": "code",
      "source": [
        "df_2022"
      ],
      "metadata": {
        "id": "Uta-Y4cYglx_"
      },
      "execution_count": null,
      "outputs": []
    },
    {
      "cell_type": "code",
      "source": [
        "plt.bar(df_2021['Day'],df_2021['Extent'])"
      ],
      "metadata": {
        "id": "W-ZqBp3ygoYU"
      },
      "execution_count": null,
      "outputs": []
    },
    {
      "cell_type": "code",
      "source": [
        "plt.bar(df_2021['Extent'],height=2,)"
      ],
      "metadata": {
        "id": "3FBuwi5wgq7n"
      },
      "execution_count": null,
      "outputs": []
    },
    {
      "cell_type": "code",
      "source": [
        "df = pd.DataFrame(df_2021, index =df_2021['Day'])\n",
        "av_row = df.mean(axis=1)\n",
        "print (av_row)\n"
      ],
      "metadata": {
        "id": "NNWG66DkgvZp"
      },
      "execution_count": null,
      "outputs": []
    },
    {
      "cell_type": "code",
      "source": [
        "plt.bar(df_2021['Year'],min(df_2021['Day']))"
      ],
      "metadata": {
        "id": "hARecTZtgzAU"
      },
      "execution_count": null,
      "outputs": []
    },
    {
      "cell_type": "code",
      "source": [
        "df = pd.DataFrame([df_2021['Extent'].astype(str).astype(float)],[df_2021['Month']])\n",
        "print(df_2021.max())"
      ],
      "metadata": {
        "id": "Ugt-dHbcgzve"
      },
      "execution_count": null,
      "outputs": []
    },
    {
      "cell_type": "code",
      "source": [
        "plt.bar(df_2021['Month'],df_2021['Extent'])"
      ],
      "metadata": {
        "id": "LVYdG_7Tg3M2"
      },
      "execution_count": null,
      "outputs": []
    },
    {
      "cell_type": "code",
      "source": [
        "import matplotlib.pyplot as plt\n",
        "\n",
        "x = df_2021['Day']\n",
        "y = df_2021['Extent']\n",
        "\n",
        "plt.scatter(x, y)\n",
        "plt.show()\n"
      ],
      "metadata": {
        "id": "YI4zn62Rg4FC"
      },
      "execution_count": null,
      "outputs": []
    }
  ]
}